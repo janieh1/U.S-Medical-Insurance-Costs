{
 "cells": [
  {
   "cell_type": "markdown",
   "metadata": {},
   "source": [
    "# U.S. Medical Insurance Costs"
   ]
  },
  {
   "cell_type": "markdown",
   "metadata": {},
   "source": [
    "In this project, we look to investigate the medical insurance costs in the CSV file **insurance.csv**. \n",
    "### Project Goal: Gain insight on how various parameters (such as age, sex, number of children, etc.) affect an individual's medical insurance cost."
   ]
  },
  {
   "cell_type": "code",
   "execution_count": 72,
   "metadata": {},
   "outputs": [],
   "source": [
    "import csv\n",
    "import matplotlib.pyplot as plt"
   ]
  },
  {
   "cell_type": "markdown",
   "metadata": {},
   "source": [
    "In the CSV file, the following attributes are given:\n",
    "* Age\n",
    "* Sex\n",
    "* BMI\n",
    "* Number of children\n",
    "* Are they a smoker (Y/N)?\n",
    "* Region \n",
    "* Charges\n",
    "\n",
    "When we import this file, we will assign each of these columns to a list. "
   ]
  },
  {
   "cell_type": "code",
   "execution_count": 73,
   "metadata": {},
   "outputs": [],
   "source": [
    "ages = []\n",
    "sexes = []\n",
    "bmis = []\n",
    "number_of_children = []\n",
    "smoker_statuses = []\n",
    "regions = []\n",
    "insurance_charges = []"
   ]
  },
  {
   "cell_type": "markdown",
   "metadata": {},
   "source": [
    "With this data, we will first lay out a plan for the things we want to investigate:\n",
    "- [x] Average age of the patients in the dataset - this will give us an idea of any possible biases that the dataset may have, and if it is a good representation of the average population\n",
    "- [x] Most common region that patients live in - again will help in finding out how \"good\" of a dataset this is.\n",
    "- [x] Find out cost differences between smokers and non-smokers.\n",
    "- [x] Find out cost differences between people with varying BMIs.\n",
    "- [x] Find the average age of someone who has at least one child\n",
    "- [x] Of the people with children, are more of them men or women?\n",
    "- [x] Find out cost differences between men and women.\n",
    "- [x] How do costs affect people by region?"
   ]
  },
  {
   "cell_type": "code",
   "execution_count": 74,
   "metadata": {},
   "outputs": [],
   "source": [
    "with open('insurance.csv', newline='') as insurance_file:\n",
    "    insurance_dict = csv.DictReader(insurance_file, delimiter=',')\n",
    "    for row in insurance_dict:\n",
    "        ages.append(row['age'])\n",
    "        sexes.append(row['sex'])\n",
    "        bmis.append(float(row['bmi']))\n",
    "        number_of_children.append(row['children'])\n",
    "        smoker_statuses.append(row['smoker'])\n",
    "        regions.append(row['region'])\n",
    "        insurance_charges.append(row['charges'])\n",
    "        \n",
    "        \n",
    "bmis = [float(b) for b in bmis]\n",
    "insurance_charges = [float(a) for a in insurance_charges]"
   ]
  },
  {
   "cell_type": "markdown",
   "metadata": {},
   "source": [
    "### Average Age of Patients\n",
    "In order to find the average age of the patients, we can add together all the elements of the `ages` list using `ages.sum()` and then divide it by the length of the list, `len(ages)`.\n",
    "\n",
    "First, though, we will have to convert the numbers in `ages` to integers, because they are currently strings from being imported from the CSV file."
   ]
  },
  {
   "cell_type": "code",
   "execution_count": 75,
   "metadata": {},
   "outputs": [
    {
     "name": "stdout",
     "output_type": "stream",
     "text": [
      "The average age of patient in the dataset is 39 years old.\n"
     ]
    }
   ],
   "source": [
    "# converting ages to int:\n",
    "ages = [int(age) for age in ages]\n",
    "\n",
    "# average age (rounded to the nearest integer):\n",
    "avg_age = round(sum(ages)/len(ages))\n",
    "print('The average age of patient in the dataset is {} years old.'.format(avg_age))"
   ]
  },
  {
   "cell_type": "markdown",
   "metadata": {},
   "source": [
    "We can also see the most common age. We will plot a histogram to get an idea of how spread out the ages of the patients are:"
   ]
  },
  {
   "cell_type": "code",
   "execution_count": 76,
   "metadata": {},
   "outputs": [
    {
     "name": "stdout",
     "output_type": "stream",
     "text": [
      "18 64\n"
     ]
    },
    {
     "data": {
      "text/plain": [
       "(array([137., 141., 139., 132., 125., 135., 144., 143., 128., 114.]),\n",
       " array([15, 20, 25, 30, 35, 40, 45, 50, 55, 60, 65]),\n",
       " <BarContainer object of 10 artists>)"
      ]
     },
     "execution_count": 76,
     "metadata": {},
     "output_type": "execute_result"
    },
    {
     "data": {
      "image/png": "[encoded data removed]",
      "text/plain": [
       "<Figure size 432x288 with 1 Axes>"
      ]
     },
     "metadata": {
      "needs_background": "light"
     },
     "output_type": "display_data"
    }
   ],
   "source": [
    "# finding min/max age to find best bin size\n",
    "min_age = min(ages)\n",
    "max_age = max(ages)\n",
    "print(min_age, max_age)\n",
    "plt.title(\"Spread of Ages of Patients\")\n",
    "plt.xlabel(\"Age (years)\")\n",
    "plt.ylabel('Number of People')\n",
    "plt.hist(ages, bins = [15,20,25,30,35,40,45,50,55,60,65])"
   ]
  },
  {
   "cell_type": "markdown",
   "metadata": {},
   "source": [
    "We can see that while the average age is 39 years old, there are slightly more people with ages above and below this average. Overall, however, there is a good spread of ages, with the minimum patient age being 18 and the maximum being 64 years old."
   ]
  },
  {
   "cell_type": "markdown",
   "metadata": {},
   "source": [
    "### Regions Where Patients Live\n",
    "We now will investigate the regions in which the patients live. We will find the number of people living in each region, and can see the most common region. We will compare these relative values to the relative populations of each of these regions in order to determine if this accurately represents the spread of the population in the U.S.\n",
    "\n",
    "To find all possible regions, we can create a set of the list `regions`, so that we will only see the unique values in the list."
   ]
  },
  {
   "cell_type": "code",
   "execution_count": 77,
   "metadata": {},
   "outputs": [
    {
     "name": "stdout",
     "output_type": "stream",
     "text": [
      "The unique regions are: {'northwest', 'southwest', 'northeast', 'southeast'}\n"
     ]
    }
   ],
   "source": [
    "unique_regions = set(regions)\n",
    "print('The unique regions are: {}'.format(unique_regions))"
   ]
  },
  {
   "cell_type": "code",
   "execution_count": 78,
   "metadata": {},
   "outputs": [
    {
     "name": "stdout",
     "output_type": "stream",
     "text": [
      "There are 324 people in the Northeast.\n",
      "There are 364 people in the Southeast.\n",
      "There are 325 people in the Northwest.\n",
      "There are 325 people in the Southwest.\n"
     ]
    }
   ],
   "source": [
    "# number of people living in each region:\n",
    "NE = regions.count('northeast')\n",
    "print('There are {} people in the Northeast.'.format(NE))\n",
    "SE = regions.count('southeast')\n",
    "print('There are {} people in the Southeast.'.format(SE))\n",
    "NW = regions.count('northwest')\n",
    "print('There are {} people in the Northwest.'.format(NW))\n",
    "SW = regions.count('southwest')\n",
    "print('There are {} people in the Southwest.'.format(SW))"
   ]
  },
  {
   "cell_type": "markdown",
   "metadata": {},
   "source": [
    "We see there is a very even spread of the population across all four regions, with the most people living in the Southeast."
   ]
  },
  {
   "cell_type": "markdown",
   "metadata": {},
   "source": [
    "Now that we have some basic information about the patients in the dataset as a whole, we will start to investigate how these and other various parameters affect the patient's insurance cost. For this, we will use classes to create a `Patient` class, and store each patient's data in a `Patient`. We will then put these in a dictionary, where each key is a number (representing a patient) and each value is a `Patient` associated with that number."
   ]
  },
  {
   "cell_type": "code",
   "execution_count": 79,
   "metadata": {},
   "outputs": [],
   "source": [
    "class Patient:\n",
    "    def __init__(self, age, sex, bmi, child, smoker, region, cost):\n",
    "        self.age = int(age)\n",
    "        self.sex = sex\n",
    "        self.bmi = bmi\n",
    "        self.num_children = int(child)\n",
    "        self.smoker = smoker\n",
    "        self.region = region\n",
    "        self.insurance_cost = cost"
   ]
  },
  {
   "cell_type": "code",
   "execution_count": 80,
   "metadata": {},
   "outputs": [],
   "source": [
    "# number of patients:\n",
    "num_patients = len(ages)\n",
    "\n",
    "patients_dict = {}\n",
    "\n",
    "# adding each patient to a Patient class\n",
    "for i in range(num_patients):\n",
    "    patients_dict[str(i + 1)] = Patient(age=ages[i], sex=sexes[i], bmi=bmis[i], child=number_of_children[i], smoker=smoker_statuses[i], region=regions[i], cost=insurance_charges[i])\n",
    "    "
   ]
  },
  {
   "cell_type": "code",
   "execution_count": 81,
   "metadata": {},
   "outputs": [
    {
     "name": "stdout",
     "output_type": "stream",
     "text": [
      "16884.924\n"
     ]
    }
   ],
   "source": [
    "# testing to make sure the dictionary is what we expect!\n",
    "print(patients_dict['1'].insurance_cost)"
   ]
  },
  {
   "cell_type": "markdown",
   "metadata": {},
   "source": [
    "### Cost Differences Between Smokers and Non-Smokers\n",
    "Here, we will separate our patients into two lists of `Patient`s: smokers and non-smokers. From that, we can calculate the average insurance cost of each group and compare the two. We can also filter this data further, for example, splitting our data into smoking and non-smoking women and smoking and non-smoking men, to see if the average aligns with the more specific comparisons.\n",
    "\n",
    "We expect in any case that the insurance costs of non-smokers will be less than that of smokers."
   ]
  },
  {
   "cell_type": "code",
   "execution_count": 82,
   "metadata": {},
   "outputs": [
    {
     "name": "stdout",
     "output_type": "stream",
     "text": [
      "There are 274 smokers and 1064 non-smokers in this dataset.\n"
     ]
    }
   ],
   "source": [
    "# separating into smokers and non-smokers:\n",
    "smokers = []\n",
    "non_smokers = []\n",
    "\n",
    "for val in patients_dict.values():\n",
    "    if val.smoker == 'yes':\n",
    "        smokers.append(val)\n",
    "    else:\n",
    "        non_smokers.append(val)\n",
    "        \n",
    "print('There are {} smokers and {} non-smokers in this dataset.'.format(len(smokers), len(non_smokers)))"
   ]
  },
  {
   "cell_type": "code",
   "execution_count": 83,
   "metadata": {},
   "outputs": [
    {
     "name": "stdout",
     "output_type": "stream",
     "text": [
      "The average insurance cost of smokers is $32050.23, and the average insurance cost of non-smokers is $8434.27.\n"
     ]
    }
   ],
   "source": [
    "# computing average cost for each group:\n",
    "def compute_avg_cost(list_of_patients):\n",
    "    total_cost = 0\n",
    "    for person in list_of_patients:\n",
    "        total_cost += float(person.insurance_cost)\n",
    "    return total_cost / len(list_of_patients)\n",
    "    \n",
    "\n",
    "avg_cost_smoker = compute_avg_cost(smokers)  \n",
    "avg_cost_non_smoker = compute_avg_cost(non_smokers)\n",
    "\n",
    "print('The average insurance cost of smokers is ${:.2f}, and the average insurance cost of non-smokers is ${:.2f}.'.format(avg_cost_smoker, avg_cost_non_smoker))\n"
   ]
  },
  {
   "cell_type": "code",
   "execution_count": 84,
   "metadata": {},
   "outputs": [
    {
     "name": "stdout",
     "output_type": "stream",
     "text": [
      "A smoker will pay on average 3.80 times more for insurance than a non-smoker.\n"
     ]
    }
   ],
   "source": [
    "print('A smoker will pay on average {:.2f} times more for insurance than a non-smoker.'.format(avg_cost_smoker/avg_cost_non_smoker))"
   ]
  },
  {
   "cell_type": "markdown",
   "metadata": {},
   "source": [
    "As expected, smokers on pay more for insurance. Almost four times more, in fact. Let's separate these groups a bit further to see how things compare when we get more specific with our selections. First, we will separate these groups into men and women."
   ]
  },
  {
   "cell_type": "code",
   "execution_count": 85,
   "metadata": {},
   "outputs": [
    {
     "name": "stdout",
     "output_type": "stream",
     "text": [
      "Smokers by the numbers: 115 F, 159 M \n",
      " Non-smokers: 547 F 517 M\n"
     ]
    }
   ],
   "source": [
    "F_smokers = [person for person in smokers if person.sex == 'female']\n",
    "F_non_smokers = [person for person in non_smokers if person.sex == 'female']\n",
    "M_smokers = [person for person in smokers if person.sex == 'male']\n",
    "M_non_smokers = [person for person in non_smokers if person.sex == 'male']\n",
    "\n",
    "print('Smokers by the numbers: {} F, {} M \\n Non-smokers: {} F {} M'.format(len(F_smokers), len(M_smokers), len(F_non_smokers), len(M_non_smokers)))"
   ]
  },
  {
   "cell_type": "markdown",
   "metadata": {},
   "source": [
    "The two groups have a fairly even number of men and women."
   ]
  },
  {
   "cell_type": "code",
   "execution_count": 86,
   "metadata": {},
   "outputs": [],
   "source": [
    "avg_cost_FS = compute_avg_cost(F_smokers)\n",
    "avg_cost_FN = compute_avg_cost(F_non_smokers)\n",
    "avg_cost_MS = compute_avg_cost(M_smokers)\n",
    "avg_cost_MN = compute_avg_cost(M_non_smokers)"
   ]
  },
  {
   "cell_type": "code",
   "execution_count": 87,
   "metadata": {},
   "outputs": [
    {
     "name": "stdout",
     "output_type": "stream",
     "text": [
      "Averages costs:\n",
      "30679.00 for Female smokers\n",
      "8762.30 for Female non-smokers\n",
      "33042.01 for Male smokers\n",
      "8087.20 for Male non-smokers\n"
     ]
    }
   ],
   "source": [
    "print(\"Averages costs:\\n{:.2f} for Female smokers\\n{:.2f} for Female non-smokers\\n{:.2f} for Male smokers\\n{:.2f} for Male non-smokers\".format(avg_cost_FS, avg_cost_FN, avg_cost_MS, avg_cost_MN))"
   ]
  },
  {
   "cell_type": "code",
   "execution_count": 88,
   "metadata": {},
   "outputs": [
    {
     "name": "stdout",
     "output_type": "stream",
     "text": [
      "Female smokers pay 3.50 more than female non-smokers, while male smokers pay 4.09 more than male non-smokers.\n"
     ]
    }
   ],
   "source": [
    "print(\"Female smokers pay {:.2f} more than female non-smokers, while male smokers pay {:.2f} more than male non-smokers.\".format((avg_cost_FS/avg_cost_FN),(avg_cost_MS/avg_cost_MN)))"
   ]
  },
  {
   "cell_type": "markdown",
   "metadata": {},
   "source": [
    "It's no surprise that we see the trend that smokers pay more than non-smokers by 3.5 to 4 times. It is interesting to see that of the smokers, the men pay on average more than the women while for the non-smokers the men pay on average less than the women. We expect that in general men will pay less for insurance than women, so there are likely other parameters affecting the costs of the male smokers that cause them to increase."
   ]
  },
  {
   "cell_type": "markdown",
   "metadata": {},
   "source": [
    "Let's compare the number of children that the smoking men and the smoking women have. Insurance costs increase with the number of children, so if we find that the men have more children overall than the women, we could have possibly found an explanation for why the men pay more than the women."
   ]
  },
  {
   "cell_type": "code",
   "execution_count": 89,
   "metadata": {},
   "outputs": [
    {
     "name": "stdout",
     "output_type": "stream",
     "text": [
      "Of the smokers, there are 97 men with at least one child and 62 women with at least one child.\n"
     ]
    }
   ],
   "source": [
    "F_smokers_with_children = [person for person in F_smokers if int(person.num_children) >= 1]\n",
    "M_smokers_with_children = [person for person in M_smokers if int(person.num_children) >= 1]\n",
    "\n",
    "print(\"Of the smokers, there are {} men with at least one child and {} women with at least one child.\".format(len(M_smokers_with_children), len(F_smokers_with_children)))"
   ]
  },
  {
   "cell_type": "markdown",
   "metadata": {},
   "source": [
    "We do see that there are more men with kids, so it is possible that this is why they pay more than women."
   ]
  },
  {
   "cell_type": "code",
   "execution_count": 90,
   "metadata": {},
   "outputs": [
    {
     "data": {
      "text/plain": [
       "<matplotlib.legend.Legend at 0x7f8468365df0>"
      ]
     },
     "execution_count": 90,
     "metadata": {},
     "output_type": "execute_result"
    },
    {
     "data": {
      "image/png": "[encoded data removed]",
      "text/plain": [
       "<Figure size 432x288 with 1 Axes>"
      ]
     },
     "metadata": {
      "needs_background": "light"
     },
     "output_type": "display_data"
    }
   ],
   "source": [
    "F_smokers_cost = [float(person.insurance_cost) for person in F_smokers]\n",
    "M_smokers_cost = [float(person.insurance_cost) for person in M_smokers]\n",
    "\n",
    "plt.title(\"Cost of insurance for Smokers\")\n",
    "plt.ylabel(\"Cost ($)\")\n",
    "plt.plot(F_smokers_cost, 'bo', label=\"women\")\n",
    "plt.plot(M_smokers_cost, 'ro', label=\"men\")\n",
    "plt.legend()"
   ]
  },
  {
   "cell_type": "markdown",
   "metadata": {},
   "source": [
    "The spread of costs between the male and female smokers is pretty even, so it is also likely that the reason we see the men paying more is because there are more male smokers (159 men) than female smokers (115 women)."
   ]
  },
  {
   "cell_type": "markdown",
   "metadata": {},
   "source": [
    "### Investigating How BMI Affects Insurance Costs"
   ]
  },
  {
   "cell_type": "code",
   "execution_count": 91,
   "metadata": {},
   "outputs": [
    {
     "data": {
      "image/png": "[encoded data removed]",
      "text/plain": [
       "<Figure size 432x288 with 1 Axes>"
      ]
     },
     "metadata": {
      "needs_background": "light"
     },
     "output_type": "display_data"
    }
   ],
   "source": [
    "plt.title('Correlation between BMI and Insurance Cost')\n",
    "plt.xlabel('BMI')\n",
    "plt.ylabel('Insurance Cost ($)')\n",
    "plt.plot(bmis, insurance_charges, 'bo')\n",
    "plt.show()"
   ]
  },
  {
   "cell_type": "markdown",
   "metadata": {},
   "source": [
    "We expect that people with a higher BMI would pay more for insurance, but that is not immediately obvious from the above plot. There are, of course, many other factors that could increase a person's insurance cost.\n",
    "\n",
    "Let's take a look at what BMI implies. According to the CDC (https://www.cdc.gov/healthyweight/assessing/bmi/adult_bmi/index.html), we have:\n",
    "\n",
    "|      BMI     |    Weight Status    |\n",
    "|--------------|---------------------|\n",
    "|  Below 18.5  |     Underweight     |\n",
    "|  18.5 - 24.9 |Normal/Healthy Weight|\n",
    "|  25.0 - 29.9 |      Overweight     |\n",
    "|30.0 and Above|        Obese        |\n",
    "\n",
    "We will separate our patients into these 4 groups and then compare how much they pay in insurance on average."
   ]
  },
  {
   "cell_type": "code",
   "execution_count": 92,
   "metadata": {},
   "outputs": [],
   "source": [
    "underweight = [person for person in patients_dict.values() if float(person.bmi) < 18.5]\n",
    "normal_weight = [person for person in patients_dict.values() if float(person.bmi) >= 18.5 and float(person.bmi) <= 24.9]\n",
    "overweight = [person for person in patients_dict.values() if float(person.bmi) >= 25.0 and float(person.bmi) <= 29.9]\n",
    "obese = [person for person in patients_dict.values() if float(person.bmi) >= 30.0]\n"
   ]
  },
  {
   "cell_type": "code",
   "execution_count": 93,
   "metadata": {},
   "outputs": [
    {
     "name": "stdout",
     "output_type": "stream",
     "text": [
      "Average costs:\n",
      "Underweight: $8852.20\n",
      "Normal weight: $10379.50\n",
      "Overweight: $10993.99\n",
      "Obese: $15552.34\n"
     ]
    }
   ],
   "source": [
    "underweight_avg_cost = compute_avg_cost(underweight)\n",
    "normal_avg_cost = compute_avg_cost(normal_weight)\n",
    "overweight_avg_cost = compute_avg_cost(overweight)\n",
    "obese_avg_cost = compute_avg_cost(obese)\n",
    "\n",
    "print('Average costs:\\nUnderweight: ${:.2f}\\nNormal weight: ${:.2f}\\nOverweight: ${:.2f}\\nObese: ${:.2f}'.format(underweight_avg_cost, normal_avg_cost, overweight_avg_cost, obese_avg_cost))"
   ]
  },
  {
   "cell_type": "code",
   "execution_count": 94,
   "metadata": {},
   "outputs": [
    {
     "data": {
      "image/png": "[encoded data removed]",
      "text/plain": [
       "<Figure size 432x288 with 1 Axes>"
      ]
     },
     "metadata": {
      "needs_background": "light"
     },
     "output_type": "display_data"
    }
   ],
   "source": [
    "plt.title('Insurance Costs by BMI')\n",
    "plt.xlabel('BMI')\n",
    "plt.ylabel('Insurance Costs ($)')\n",
    "plt.plot([float(p.bmi) for p in underweight], [float(p.insurance_cost) for p in underweight], 'ro', label='underweight')\n",
    "plt.plot([float(p.bmi) for p in normal_weight], [float(p.insurance_cost) for p in normal_weight], 'bo', label='healthy')\n",
    "plt.plot([float(p.bmi) for p in overweight], [float(p.insurance_cost) for p in overweight], 'go', label='overweight')\n",
    "plt.plot([float(p.bmi) for p in obese], [float(p.insurance_cost) for p in obese], 'ko', label='obese')\n",
    "plt.legend()\n",
    "plt.tight_layout()"
   ]
  },
  {
   "cell_type": "markdown",
   "metadata": {},
   "source": [
    "With the BMIs separated more clearly, we can see better that while there are people with large BMIs who pay a reasonably low amount of insurance, the highest insurance costs are paid by people with BMIs in the obese category."
   ]
  },
  {
   "cell_type": "markdown",
   "metadata": {},
   "source": [
    "### Average Age of People with Kids\n",
    "Now we will look at people with children, and mainly find their average age. "
   ]
  },
  {
   "cell_type": "code",
   "execution_count": 95,
   "metadata": {},
   "outputs": [],
   "source": [
    "people_with_children = [person for person in patients_dict.values() if float(person.num_children) >= 1]"
   ]
  },
  {
   "cell_type": "code",
   "execution_count": 96,
   "metadata": {},
   "outputs": [
    {
     "name": "stdout",
     "output_type": "stream",
     "text": [
      "764 patients have at least one child.\n"
     ]
    }
   ],
   "source": [
    "print(\"{} patients have at least one child.\".format(len(people_with_children)))"
   ]
  },
  {
   "cell_type": "code",
   "execution_count": 97,
   "metadata": {},
   "outputs": [
    {
     "name": "stdout",
     "output_type": "stream",
     "text": [
      "The average age of people with children is 40 years old.\n"
     ]
    }
   ],
   "source": [
    "def compute_avg_age(list_of_patients):\n",
    "    total = 0\n",
    "    for person in list_of_patients:\n",
    "        total += person.age\n",
    "    return total / len(list_of_patients)\n",
    "\n",
    "avg_age_kids = compute_avg_age(people_with_children)\n",
    "print(\"The average age of people with children is {} years old.\".format(round(avg_age_kids)))"
   ]
  },
  {
   "cell_type": "markdown",
   "metadata": {},
   "source": [
    "Let's also see how age compares with number of kids."
   ]
  },
  {
   "cell_type": "code",
   "execution_count": 98,
   "metadata": {},
   "outputs": [
    {
     "name": "stdout",
     "output_type": "stream",
     "text": [
      "The oldest person with kids is 64 while the youngest is 18.\n"
     ]
    }
   ],
   "source": [
    "ages_with_kids = [person.age for person in people_with_children]\n",
    "num_kids_with_kids = [person.num_children for person in people_with_children]\n",
    "\n",
    "min_age_with_kids = min(ages_with_kids)\n",
    "max_age_with_kids = max(ages_with_kids)\n",
    "\n",
    "print('The oldest person with kids is {} while the youngest is {}.'.format(max_age_with_kids, min_age_with_kids))"
   ]
  },
  {
   "cell_type": "code",
   "execution_count": 99,
   "metadata": {},
   "outputs": [
    {
     "name": "stdout",
     "output_type": "stream",
     "text": [
      "The person with the most number of kids has 5 kids and is 19.\n"
     ]
    }
   ],
   "source": [
    "most_num_children = max(num_kids_with_kids)\n",
    "ind = num_kids_with_kids.index(most_num_children)\n",
    "age_most_kids = ages_with_kids[ind]\n",
    "\n",
    "print(\"The person with the most number of kids has {} kids and is {}.\".format(most_num_children, age_most_kids))"
   ]
  },
  {
   "cell_type": "code",
   "execution_count": 100,
   "metadata": {},
   "outputs": [
    {
     "data": {
      "text/plain": [
       "[<matplotlib.lines.Line2D at 0x7f847a619bb0>]"
      ]
     },
     "execution_count": 100,
     "metadata": {},
     "output_type": "execute_result"
    },
    {
     "data": {
      "image/png": "[encoded data removed]",
      "text/plain": [
       "<Figure size 432x288 with 1 Axes>"
      ]
     },
     "metadata": {
      "needs_background": "light"
     },
     "output_type": "display_data"
    }
   ],
   "source": [
    "plt.title('Number of Kids vs Age')\n",
    "plt.xlabel('Age')\n",
    "plt.ylabel('Number of Kids')\n",
    "plt.plot(ages_with_kids, num_kids_with_kids, 'bo')"
   ]
  },
  {
   "cell_type": "markdown",
   "metadata": {},
   "source": [
    "#### Sex Distribution of Parents\n"
   ]
  },
  {
   "cell_type": "code",
   "execution_count": 102,
   "metadata": {},
   "outputs": [
    {
     "name": "stdout",
     "output_type": "stream",
     "text": [
      "Of the people with kids, 373 are female and 391 are male.\n"
     ]
    }
   ],
   "source": [
    "moms = [person for person in people_with_children if person.sex == 'female']\n",
    "dads = [person for person in people_with_children if person.sex == 'male']\n",
    "\n",
    "print(\"Of the people with kids, {} are female and {} are male.\".format(len(moms), len(dads)))"
   ]
  },
  {
   "cell_type": "markdown",
   "metadata": {},
   "source": [
    "We see that there are slightly more male than female parents."
   ]
  },
  {
   "cell_type": "code",
   "execution_count": 108,
   "metadata": {},
   "outputs": [
    {
     "name": "stdout",
     "output_type": "stream",
     "text": [
      "In the entire dataset, there are 676 men and 662 women.\n"
     ]
    }
   ],
   "source": [
    "M = [person for person in patients_dict.values() if person.sex == 'male']\n",
    "F = [person for person in patients_dict.values() if person.sex == 'female']\n",
    "\n",
    "print(\"In the entire dataset, there are {} men and {} women.\".format(len(M), len(F)))"
   ]
  },
  {
   "cell_type": "markdown",
   "metadata": {},
   "source": [
    "We do see that there are slightly more men than women in this dataset, so based on this, it is not surprising that so far we have seen more men as parents and smokers than as women, simply because there are more of them (although it is not by much)."
   ]
  },
  {
   "cell_type": "markdown",
   "metadata": {},
   "source": [
    "### Cost Differences Between Men and Women\n",
    "We've already compared some costs between men and women, but now we will just compare all the men and all the women and see their average costs."
   ]
  },
  {
   "cell_type": "code",
   "execution_count": 109,
   "metadata": {},
   "outputs": [
    {
     "name": "stdout",
     "output_type": "stream",
     "text": [
      "Men pay an average pf $13956.75 and women pay an average of $12569.58.\n"
     ]
    }
   ],
   "source": [
    "avg_cost_male = compute_avg_cost(M)\n",
    "avg_cost_female = compute_avg_cost(F)\n",
    "\n",
    "print('Men pay an average pf ${:.2f} and women pay an average of ${:.2f}.'.format(avg_cost_male, avg_cost_female))"
   ]
  },
  {
   "cell_type": "markdown",
   "metadata": {},
   "source": [
    "Interestingly enough, we see that men pay more than women. "
   ]
  },
  {
   "cell_type": "code",
   "execution_count": 110,
   "metadata": {},
   "outputs": [
    {
     "name": "stdout",
     "output_type": "stream",
     "text": [
      "The men are on average 39 years old while the women are on average 40 years old.\n"
     ]
    }
   ],
   "source": [
    "men_avg_age = compute_avg_age(M)\n",
    "women_avg_age = compute_avg_age(F)\n",
    "\n",
    "print(\"The men are on average {} years old while the women are on average {} years old.\".format(round(men_avg_age), round(women_avg_age)))"
   ]
  },
  {
   "cell_type": "markdown",
   "metadata": {},
   "source": [
    "It cannot be age that is causing the men's average cost to be higher. "
   ]
  },
  {
   "cell_type": "code",
   "execution_count": 112,
   "metadata": {},
   "outputs": [
    {
     "data": {
      "image/png": "[encoded data removed]",
      "text/plain": [
       "<Figure size 432x288 with 1 Axes>"
      ]
     },
     "metadata": {
      "needs_background": "light"
     },
     "output_type": "display_data"
    }
   ],
   "source": [
    "M_underweight = [person for person in M if float(person.bmi) < 18.5]\n",
    "M_normal_weight = [person for person in M if float(person.bmi) >= 18.5 and float(person.bmi) <= 24.9]\n",
    "M_overweight = [person for person in M if float(person.bmi) >= 25.0 and float(person.bmi) <= 29.9]\n",
    "M_obese = [person for person in M if float(person.bmi) >= 30.0]\n",
    "\n",
    "F_underweight = [person for person in F if float(person.bmi) < 18.5]\n",
    "F_normal_weight = [person for person in F if float(person.bmi) >= 18.5 and float(person.bmi) <= 24.9]\n",
    "F_overweight = [person for person in F if float(person.bmi) >= 25.0 and float(person.bmi) <= 29.9]\n",
    "F_obese = [person for person in F if float(person.bmi) >= 30.0]\n",
    "\n",
    "\n",
    "plt.title('Insurance Costs by BMI and Age')\n",
    "plt.xlabel('BMI')\n",
    "plt.ylabel('Insurance Costs ($)')\n",
    "plt.plot([float(p.bmi) for p in M_underweight], [float(p.insurance_cost) for p in M_underweight], 'ro', label='underweight M')\n",
    "plt.plot([float(p.bmi) for p in M_normal_weight], [float(p.insurance_cost) for p in M_normal_weight], 'bo', label='healthy M')\n",
    "plt.plot([float(p.bmi) for p in M_overweight], [float(p.insurance_cost) for p in M_overweight], 'go', label='overweight M')\n",
    "plt.plot([float(p.bmi) for p in M_obese], [float(p.insurance_cost) for p in M_obese], 'ko', label='obese M')\n",
    "plt.plot([float(p.bmi) for p in F_underweight], [float(p.insurance_cost) for p in F_underweight], 'r*', label='underweight F')\n",
    "plt.plot([float(p.bmi) for p in F_normal_weight], [float(p.insurance_cost) for p in F_normal_weight], 'b*', label='healthy F')\n",
    "plt.plot([float(p.bmi) for p in F_overweight], [float(p.insurance_cost) for p in F_overweight], 'g*', label='overweight F')\n",
    "plt.plot([float(p.bmi) for p in F_obese], [float(p.insurance_cost) for p in F_obese], 'k*', label='obese F')\n",
    "plt.legend()\n",
    "plt.tight_layout()"
   ]
  },
  {
   "cell_type": "markdown",
   "metadata": {},
   "source": [
    "While there is a fairly even spread, we notice that some of the highest BMIs and associated insurance costs are had by men, so this could be one of the reasons why we see men paying more, along with there being more men who smoke and more men with children."
   ]
  },
  {
   "cell_type": "markdown",
   "metadata": {},
   "source": [
    "### Impact of Region on Insurance Costs\n",
    "Lastly, we want to investigate how a person's region might impact how much they pay for insurance. We will separate the patients into four groups representing each region, and then from there, calculate the average insurance cost."
   ]
  },
  {
   "cell_type": "code",
   "execution_count": 114,
   "metadata": {},
   "outputs": [
    {
     "name": "stdout",
     "output_type": "stream",
     "text": [
      "Average cost by region:\n",
      "Northeast: $13406.38\n",
      "Southeast: $14735.41\n",
      "Northwest: $12417.58\n",
      "Southwest: $12346.94.\n"
     ]
    }
   ],
   "source": [
    "northeast = [person for person in patients_dict.values() if person.region == 'northeast']\n",
    "southeast = [person for person in patients_dict.values() if person.region == 'southeast']\n",
    "northwest = [person for person in patients_dict.values() if person.region == 'northwest']\n",
    "southwest = [person for person in patients_dict.values() if person.region == 'southwest']\n",
    "\n",
    "NE_avg_cost = compute_avg_cost(northeast)\n",
    "SE_avg_cost = compute_avg_cost(southeast)\n",
    "NW_avg_cost = compute_avg_cost(northwest)\n",
    "SW_avg_cost = compute_avg_cost(southwest)\n",
    "\n",
    "print('Average cost by region:\\nNortheast: ${:.2f}\\nSoutheast: ${:.2f}\\nNorthwest: ${:.2f}\\nSouthwest: ${:.2f}.'.format(NE_avg_cost, SE_avg_cost, NW_avg_cost, SW_avg_cost))"
   ]
  },
  {
   "cell_type": "markdown",
   "metadata": {},
   "source": [
    "The Southeast is the most expensive region, but it was the region with the most patients, so this could have a (small) impact on these results."
   ]
  },
  {
   "cell_type": "markdown",
   "metadata": {},
   "source": [
    "### Conclusion\n",
    "Overall, it seems like this dataset is a fairly good (accurate) representation of a larger population. \n",
    "\n",
    "We find that whether or not a person is a smoker seems to have a very large impact on how much they pay in insurance."
   ]
  },
  {
   "cell_type": "code",
   "execution_count": null,
   "metadata": {},
   "outputs": [],
   "source": []
  }
 ],
 "metadata": {
  "kernelspec": {
   "display_name": "Python 3",
   "language": "python",
   "name": "python3"
  },
  "language_info": {
   "codemirror_mode": {
    "name": "ipython",
    "version": 3
   },
   "file_extension": ".py",
   "mimetype": "text/x-python",
   "name": "python",
   "nbconvert_exporter": "python",
   "pygments_lexer": "ipython3",
   "version": "3.8.5"
  }
 },
 "nbformat": 4,
 "nbformat_minor": 4
}
